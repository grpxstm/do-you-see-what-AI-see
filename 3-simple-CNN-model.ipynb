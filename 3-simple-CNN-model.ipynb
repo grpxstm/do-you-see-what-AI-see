{
  "cells": [
    {
      "cell_type": "code",
      "source": [
        "from google.colab import drive\n",
        "drive.mount('/content/drive')"
      ],
      "metadata": {
        "id": "IX8ptKk2zVdr",
        "outputId": "d18f282c-6e8b-40eb-c020-e28fdf2b83a9",
        "colab": {
          "base_uri": "https://localhost:8080/"
        }
      },
      "execution_count": 1,
      "outputs": [
        {
          "output_type": "stream",
          "name": "stdout",
          "text": [
            "Mounted at /content/drive\n"
          ]
        }
      ]
    },
    {
      "cell_type": "markdown",
      "metadata": {
        "id": "XdLC1p2fzAbe"
      },
      "source": [
        "## 3. Simple CNN models\n",
        "\n",
        "In this notebook, we'll deploy and analyze the results of simple CNNs on our training, validation & testing data."
      ]
    },
    {
      "cell_type": "code",
      "execution_count": 3,
      "metadata": {
        "id": "qs9Qmxb_zAbm"
      },
      "outputs": [],
      "source": [
        "import os\n",
        "import tensorflow as tf\n",
        "import matplotlib.pyplot as plt\n",
        "from utils import split_data, image_generators"
      ]
    },
    {
      "cell_type": "code",
      "source": [
        "# Connect to GDrive files\n",
        "drive = \"drive/MyDrive\"\n",
        "\n",
        "# Save directory paths\n",
        "train_dir = os.path.join(drive, \"train\")\n",
        "val_dir = os.path.join(drive, \"validation\")\n",
        "g_train_dir = os.path.join(train_dir, \"glaucoma\")\n",
        "g_val_dir = os.path.join(val_dir, \"glaucoma\")\n",
        "n_train_dir = os.path.join(train_dir, \"normal\")\n",
        "n_val_dir = os.path.join(val_dir, \"normal\")"
      ],
      "metadata": {
        "id": "Tnk_s47oznbb"
      },
      "execution_count": 4,
      "outputs": []
    },
    {
      "cell_type": "markdown",
      "metadata": {
        "id": "uWtxBiW2zAbp"
      },
      "source": [
        "### 3.1 Define & choose network architecture\n",
        "\n",
        "We'll create, visualize, and evaluate 3 different CNN architectures:\n",
        "* 1 x convolutional, 1 x pooling, 1 x dense layers\n",
        "- 2 x convolutional, 2 x pooling, 1 x dense layers\n",
        "* 3 x convolutional, 3 x pooling, 1 x dense layers\n",
        "\n",
        "We want to find the optimal number of convolutions for increasing the accuracy of our predictions without losing information from the dataset. We will also test how our performance is affected when we remove any of the pooling layers in the next section."
      ]
    },
    {
      "cell_type": "markdown",
      "metadata": {
        "id": "7_s6LyN_zAbr"
      },
      "source": [
        "First off, we'll define the image size for the training and validation data as (178, 178), as it's the smallest resolution from the whole dataset. Secondly, we'll do a 80-20 train-validation split."
      ]
    },
    {
      "cell_type": "code",
      "execution_count": null,
      "metadata": {
        "id": "OlHjVXYKzAbs"
      },
      "outputs": [],
      "source": [
        "# For running on local machine\n",
        "# split_size = 0.8\n",
        "#\n",
        "# Save directory paths\n",
        "# acrima_dir = os.path.join(os.getcwd(), \"data/acrima-dataset\")\n",
        "# glaucoma_dir = os.path.join(acrima_dir, \"glaucoma\")\n",
        "# normal_dir = os.path.join(acrima_dir, \"normal\")\n",
        "# train_dir = os.path.join(acrima_dir, \"train\")\n",
        "# val_dir = os.path.join(acrima_dir, \"validation\")\n",
        "# g_train_dir = os.path.join(train_dir, \"glaucoma\")\n",
        "# g_val_dir = os.path.join(val_dir, \"glaucoma\")\n",
        "# n_train_dir = os.path.join(train_dir, \"normal\")\n",
        "# n_val_dir = os.path.join(val_dir, \"normal\")\n",
        "# \n",
        "# Train-validation split data\n",
        "# split_data(glaucoma_dir, g_train_dir, g_val_dir, split_size)\n",
        "# split_data(normal_dir, n_train_dir, n_val_dir, split_size)"
      ]
    },
    {
      "cell_type": "code",
      "execution_count": 54,
      "metadata": {
        "id": "U_rRlYUdzAbu",
        "outputId": "a209b1e6-1655-47a3-c4e4-c8b38f3dcf4b",
        "colab": {
          "base_uri": "https://localhost:8080/"
        }
      },
      "outputs": [
        {
          "output_type": "stream",
          "name": "stdout",
          "text": [
            "Found 563 images belonging to 2 classes.\n",
            "Found 142 images belonging to 2 classes.\n"
          ]
        }
      ],
      "source": [
        "# Define input datasets arguments\n",
        "train_image_size = (178, 178)\n",
        "val_image_size = (178, 178)\n",
        "\n",
        "# Get image generators for training & validation data\n",
        "train_gen, val_gen = image_generators(train_dir, val_dir, train_image_size, val_image_size)"
      ]
    },
    {
      "cell_type": "markdown",
      "metadata": {
        "id": "8bdNQ5Y7zAbx"
      },
      "source": [
        "We'll check to see how well each of the models is performing after only 5 epochs to then choose a model to refine. We chose:\n",
        "* **ReLu activation** functions for the convolutions\n",
        "- **Sigmoid activation** function for the output layer, as it's a binary classification problem\n",
        "* **RMSprop optimizer**, as it applies gradient descent and automatically chooses a learning rate\n",
        "- **Binary crossentropy loss**, as we're working on a binary classification problem"
      ]
    },
    {
      "cell_type": "code",
      "execution_count": 9,
      "metadata": {
        "id": "jX_EAjo_zAbz"
      },
      "outputs": [],
      "source": [
        "input_shape = (178, 178, 3)"
      ]
    },
    {
      "cell_type": "markdown",
      "metadata": {
        "id": "w3BjKKDnzAb0"
      },
      "source": [
        "#### 3.1.1. One layer model"
      ]
    },
    {
      "cell_type": "code",
      "execution_count": null,
      "metadata": {
        "id": "lnAkj-KszAb1",
        "outputId": "21b636b6-1d12-4c32-90a1-c8a74d1361be",
        "colab": {
          "base_uri": "https://localhost:8080/"
        }
      },
      "outputs": [
        {
          "output_type": "stream",
          "name": "stdout",
          "text": [
            "Epoch 1/5\n",
            "29/29 [==============================] - 99s 3s/step - loss: 22.9461 - accuracy: 0.6199 - val_loss: 0.5475 - val_accuracy: 0.8310\n",
            "Epoch 2/5\n",
            "29/29 [==============================] - 96s 3s/step - loss: 1.0916 - accuracy: 0.7886 - val_loss: 0.2978 - val_accuracy: 0.8803\n",
            "Epoch 3/5\n",
            "29/29 [==============================] - 97s 3s/step - loss: 0.4454 - accuracy: 0.8668 - val_loss: 0.3139 - val_accuracy: 0.8592\n",
            "Epoch 4/5\n",
            "29/29 [==============================] - 94s 3s/step - loss: 0.3863 - accuracy: 0.8757 - val_loss: 0.1941 - val_accuracy: 0.9225\n",
            "Epoch 5/5\n",
            "29/29 [==============================] - 104s 4s/step - loss: 0.3972 - accuracy: 0.9059 - val_loss: 2.9187 - val_accuracy: 0.6338\n"
          ]
        }
      ],
      "source": [
        "one_layer_model = tf.keras.Sequential([\n",
        "    tf.keras.layers.Conv2D(64, (3, 3), input_shape=input_shape, activation='relu'),\n",
        "    tf.keras.layers.MaxPool2D(2, 2),\n",
        "    tf.keras.layers.Flatten(),\n",
        "    tf.keras.layers.Dense(512, activation='relu'),\n",
        "    tf.keras.layers.Dense(1, activation='sigmoid')\n",
        "])\n",
        "\n",
        "one_layer_model.compile(optimizer=tf.keras.optimizers.RMSprop(learning_rate=0.001),\\\n",
        "    loss='binary_crossentropy', metrics=['accuracy'])\n",
        "\n",
        "history = one_layer_model.fit(train_gen,\n",
        "                    epochs=5,\n",
        "                    verbose=1,\n",
        "                    validation_data=val_gen)"
      ]
    },
    {
      "cell_type": "markdown",
      "source": [
        "**One-layer stats:** After 5 epochs, we get a training accuracy of 90.6% and a validation accuracy of 63.4%.\n",
        "\n",
        "It seems that after the 5th epoch, the model begins to significantly overfit. Also, given the deep neural network has many more neurons compared to the other two networks, the training time is significantly higher."
      ],
      "metadata": {
        "id": "1QaH2Vo43YAs"
      }
    },
    {
      "cell_type": "code",
      "source": [
        "# Visualize the training & validation accuracy to determine if model is overfitting\n",
        "acc = history.history['accuracy']\n",
        "val_acc = history.history['val_accuracy']\n",
        "\n",
        "# Retrieve number of epochs\n",
        "epochs = range(len(acc)) \n",
        "\n",
        "ax, fig = plt.subplots(figsize=(20, 4))\n",
        "plt.subplot(121)\n",
        "plt.plot(epochs, acc, 'r', \"Training Accuracy\")\n",
        "plt.plot(epochs, val_acc, 'b', \"Validation Accuracy\")\n",
        "plt.title('Training and validation accuracy')\n",
        "\n",
        "# Visualize the training & validation loss to determine if model is overfitting\n",
        "loss = history.history['loss']\n",
        "val_loss = history.history['val_loss']\n",
        "\n",
        "plt.subplot(122)\n",
        "plt.plot(epochs, loss, 'r', \"Training Loss\")\n",
        "plt.plot(epochs, val_loss, 'b', \"Validation Loss\")\n",
        "plt.show()"
      ],
      "metadata": {
        "id": "0zYHIvp21C_T",
        "outputId": "cd2d2e6f-af32-4485-f276-f6fb018a1dd6",
        "colab": {
          "base_uri": "https://localhost:8080/",
          "height": 255
        }
      },
      "execution_count": null,
      "outputs": [
        {
          "output_type": "display_data",
          "data": {
            "text/plain": [
              "<Figure size 1440x288 with 2 Axes>"
            ],
            "image/png": "[encoded data removed]"
          },
          "metadata": {
            "needs_background": "light"
          }
        }
      ]
    },
    {
      "cell_type": "markdown",
      "metadata": {
        "id": "XSPT_UnxzAb3"
      },
      "source": [
        "#### 3.1.2. Two-layer model"
      ]
    },
    {
      "cell_type": "code",
      "execution_count": null,
      "metadata": {
        "id": "u6jJeDL2zAb4",
        "outputId": "4c9a9030-72e7-4cdc-9211-d0d72b832bfd",
        "colab": {
          "base_uri": "https://localhost:8080/"
        }
      },
      "outputs": [
        {
          "output_type": "stream",
          "name": "stdout",
          "text": [
            "Epoch 1/5\n",
            "29/29 [==============================] - 46s 2s/step - loss: 4.1079 - accuracy: 0.6892 - val_loss: 0.4048 - val_accuracy: 0.8592\n",
            "Epoch 2/5\n",
            "29/29 [==============================] - 46s 2s/step - loss: 0.6476 - accuracy: 0.8188 - val_loss: 0.2900 - val_accuracy: 0.8803\n",
            "Epoch 3/5\n",
            "29/29 [==============================] - 47s 2s/step - loss: 0.3650 - accuracy: 0.8845 - val_loss: 0.2005 - val_accuracy: 0.9085\n",
            "Epoch 4/5\n",
            "29/29 [==============================] - 45s 2s/step - loss: 0.4087 - accuracy: 0.8650 - val_loss: 0.7124 - val_accuracy: 0.6972\n",
            "Epoch 5/5\n",
            "29/29 [==============================] - 45s 2s/step - loss: 0.2192 - accuracy: 0.9290 - val_loss: 0.2988 - val_accuracy: 0.9085\n"
          ]
        }
      ],
      "source": [
        "two_layer_model = tf.keras.Sequential([\n",
        "    tf.keras.layers.Conv2D(32, (3, 3), input_shape=input_shape, activation='relu'),\n",
        "    tf.keras.layers.MaxPool2D(2, 2),\n",
        "    tf.keras.layers.Conv2D(64, (3, 3), activation='relu'),\n",
        "    tf.keras.layers.MaxPool2D(2, 2),\n",
        "    tf.keras.layers.Flatten(),\n",
        "    tf.keras.layers.Dense(512, activation='relu'),\n",
        "    tf.keras.layers.Dense(1, activation='sigmoid')\n",
        "])\n",
        "\n",
        "two_layer_model.compile(optimizer=tf.keras.optimizers.RMSprop(learning_rate=0.001),\\\n",
        "    loss='binary_crossentropy', metrics=['accuracy'])\n",
        "\n",
        "history = two_layer_model.fit(train_gen,\n",
        "                    epochs=5,\n",
        "                    verbose=1,\n",
        "                    validation_data=val_gen)"
      ]
    },
    {
      "cell_type": "markdown",
      "source": [
        "**Two-layer stats:** After 5 epochs, we get a training accuracy of 92.9% and a validation accuracy of 90.9%.\n",
        "\n",
        "The two-layer model provides better results after 5 epochs compared to the one-layer model."
      ],
      "metadata": {
        "id": "UjE17ctg4hH2"
      }
    },
    {
      "cell_type": "code",
      "source": [
        "# Visualize the training & validation accuracy to determine if model is overfitting\n",
        "acc = history.history['accuracy']\n",
        "val_acc = history.history['val_accuracy']\n",
        "\n",
        "# Retrieve number of epochs\n",
        "epochs = range(len(acc)) \n",
        "\n",
        "ax, fig = plt.subplots(figsize=(20, 4))\n",
        "\n",
        "plt.subplot(121)\n",
        "plt.plot(epochs, acc, 'r', \"Training Accuracy\")\n",
        "plt.plot(epochs, val_acc, 'b', \"Validation Accuracy\")\n",
        "plt.title('Training and validation accuracy')\n",
        "\n",
        "# Visualize the training & validation loss to determine if model is overfitting\n",
        "loss = history.history['loss']\n",
        "val_loss = history.history['val_loss']\n",
        "\n",
        "plt.subplot(122)\n",
        "plt.plot(epochs, loss, 'r', \"Training Loss\")\n",
        "plt.plot(epochs, val_loss, 'b', \"Validation Loss\")\n",
        "plt.show()"
      ],
      "metadata": {
        "id": "ewh7mosZ3QvL",
        "outputId": "29c747c6-1e02-473a-f129-50dbb18f226e",
        "colab": {
          "base_uri": "https://localhost:8080/",
          "height": 255
        }
      },
      "execution_count": null,
      "outputs": [
        {
          "output_type": "display_data",
          "data": {
            "text/plain": [
              "<Figure size 1440x288 with 2 Axes>"
            ],
            "image/png": "[encoded data removed]"
          },
          "metadata": {
            "needs_background": "light"
          }
        }
      ]
    },
    {
      "cell_type": "markdown",
      "metadata": {
        "id": "7hjqp9ZFzAb6"
      },
      "source": [
        "#### 3.1.3. Three-layer model"
      ]
    },
    {
      "cell_type": "code",
      "execution_count": null,
      "metadata": {
        "id": "heDv3R54zAb7",
        "outputId": "cdaf01ac-ea48-4a6d-82b6-a71c16810458",
        "colab": {
          "base_uri": "https://localhost:8080/"
        }
      },
      "outputs": [
        {
          "output_type": "stream",
          "name": "stdout",
          "text": [
            "Epoch 1/5\n",
            "29/29 [==============================] - 27s 881ms/step - loss: 1.1086 - accuracy: 0.6643 - val_loss: 0.5446 - val_accuracy: 0.6197\n",
            "Epoch 2/5\n",
            "29/29 [==============================] - 26s 887ms/step - loss: 0.4544 - accuracy: 0.8206 - val_loss: 0.3995 - val_accuracy: 0.8521\n",
            "Epoch 3/5\n",
            "29/29 [==============================] - 24s 822ms/step - loss: 0.3455 - accuracy: 0.8703 - val_loss: 0.3559 - val_accuracy: 0.8380\n",
            "Epoch 4/5\n",
            "29/29 [==============================] - 24s 818ms/step - loss: 0.4280 - accuracy: 0.8703 - val_loss: 0.2489 - val_accuracy: 0.8873\n",
            "Epoch 5/5\n",
            "29/29 [==============================] - 24s 835ms/step - loss: 0.3080 - accuracy: 0.8863 - val_loss: 0.2899 - val_accuracy: 0.8732\n"
          ]
        }
      ],
      "source": [
        "three_layer_model = tf.keras.Sequential([\n",
        "    tf.keras.layers.Conv2D(16, (3, 3), input_shape=input_shape, activation='relu'),\n",
        "    tf.keras.layers.MaxPool2D(2, 2),\n",
        "    tf.keras.layers.Conv2D(32, (3, 3), activation='relu'),\n",
        "    tf.keras.layers.MaxPool2D(2, 2),\n",
        "    tf.keras.layers.Conv2D(64, (3, 3), activation='relu'),\n",
        "    tf.keras.layers.MaxPool2D(2, 2),\n",
        "    tf.keras.layers.Flatten(),\n",
        "    tf.keras.layers.Dense(512, activation='relu'),\n",
        "    tf.keras.layers.Dense(1, activation='sigmoid')\n",
        "])\n",
        "\n",
        "three_layer_model.compile(optimizer=tf.keras.optimizers.RMSprop(learning_rate=0.001),\\\n",
        "    loss='binary_crossentropy', metrics=['accuracy'])\n",
        "\n",
        "history = three_layer_model.fit(train_gen,\n",
        "                    epochs=5,\n",
        "                    verbose=1,\n",
        "                    validation_data=val_gen)"
      ]
    },
    {
      "cell_type": "markdown",
      "source": [
        "**Three-layer stats:** After 5 epochs, we get a training accuracy of 88.6% and a validation accuracy of 87.3%. \n",
        "\n",
        "The accuracy is lower than in the case of the two-layer network, suggesting that adding an additional convolution removes relevant data from the neural network. However, in this case the training & validation accuracy seem to converge."
      ],
      "metadata": {
        "id": "uGYzpHCE4sfZ"
      }
    },
    {
      "cell_type": "code",
      "source": [
        "# Visualize the training & validation accuracy to determine if model is overfitting\n",
        "acc = history.history['accuracy']\n",
        "val_acc = history.history['val_accuracy']\n",
        "\n",
        "# Retrieve number of epochs\n",
        "epochs = range(len(acc)) \n",
        "\n",
        "ax, fig = plt.subplots(figsize=(20, 4))\n",
        "plt.subplot(121)\n",
        "plt.plot(epochs, acc, 'r', \"Training Accuracy\")\n",
        "plt.plot(epochs, val_acc, 'b', \"Validation Accuracy\")\n",
        "plt.title('Training and validation accuracy')\n",
        "\n",
        "# Visualize the training & validation loss to determine if model is overfitting\n",
        "loss = history.history['loss']\n",
        "val_loss = history.history['val_loss']\n",
        "\n",
        "plt.subplot(122)\n",
        "plt.plot(epochs, loss, 'r', \"Training Loss\")\n",
        "plt.plot(epochs, val_loss, 'b', \"Validation Loss\")\n",
        "plt.show()"
      ],
      "metadata": {
        "id": "VV52Fb-y3Rhp",
        "outputId": "bf9b82c7-f976-49ef-80c4-3c33ae37de9a",
        "colab": {
          "base_uri": "https://localhost:8080/",
          "height": 255
        }
      },
      "execution_count": null,
      "outputs": [
        {
          "output_type": "display_data",
          "data": {
            "text/plain": [
              "<Figure size 1440x288 with 2 Axes>"
            ],
            "image/png": "[encoded data removed]"
          },
          "metadata": {
            "needs_background": "light"
          }
        }
      ]
    },
    {
      "cell_type": "markdown",
      "source": [
        "### 3.2. Hyperparameter tuning\n",
        "\n",
        "We'll now try to optimize our two-layer neural network which we'll then test on the Kaggle dataset."
      ],
      "metadata": {
        "id": "eZLW0bwQuGHF"
      }
    },
    {
      "cell_type": "code",
      "source": [
        "import numpy as np\n",
        "from scikeras.wrappers import KerasClassifier\n",
        "from sklearn.model_selection import GridSearchCV"
      ],
      "metadata": {
        "id": "VvhgQ6Fh2q2e"
      },
      "execution_count": 22,
      "outputs": []
    },
    {
      "cell_type": "code",
      "source": [
        "def create_model():\n",
        "  two_layer_model = tf.keras.Sequential([\n",
        "    tf.keras.layers.Conv2D(32, (3, 3), input_shape=input_shape, activation='relu'),\n",
        "    tf.keras.layers.MaxPool2D(2, 2),\n",
        "    tf.keras.layers.Conv2D(64, (3, 3), activation='relu'),\n",
        "    tf.keras.layers.MaxPool2D(2, 2),\n",
        "    tf.keras.layers.Flatten(),\n",
        "    tf.keras.layers.Dense(512, activation='relu'),\n",
        "    tf.keras.layers.Dense(1, activation='sigmoid')\n",
        "])\n",
        "\n",
        "  two_layer_model.compile(optimizer=tf.keras.optimizers.RMSprop(learning_rate=0.001),\\\n",
        "    loss='binary_crossentropy', metrics=['accuracy'])\n",
        "  \n",
        "  return two_layer_model"
      ],
      "metadata": {
        "id": "5EvbkHxzC7h_"
      },
      "execution_count": 11,
      "outputs": []
    },
    {
      "cell_type": "markdown",
      "source": [
        "To use GridSearchCV with our image generators we need to unwrap the augmented images from the generators. To do so, I explored the `train_gen` `keras.preprocessing.image.DirectoryIterator` object."
      ],
      "metadata": {
        "id": "LsWBC6tHFUpb"
      }
    },
    {
      "cell_type": "code",
      "source": [
        "print(\"train_gen type:\", type(train_gen))\n",
        "print(\"train_gen[0] type\", type(train_gen[0]))\n",
        "print(\"train_gen[0][0] type\", type(train_gen[0][0]))\n",
        "print(\"train_gen[0][0][0] type\", type(train_gen[0][0][0]))"
      ],
      "metadata": {
        "id": "IC9Eut_kDZ94",
        "outputId": "757c07aa-20f0-4340-b58c-291b2371af47",
        "colab": {
          "base_uri": "https://localhost:8080/"
        }
      },
      "execution_count": 31,
      "outputs": [
        {
          "output_type": "stream",
          "name": "stdout",
          "text": [
            "train_gen type: <class 'keras.preprocessing.image.DirectoryIterator'>\n",
            "train_gen[0] type <class 'tuple'>\n",
            "train_gen[0][0] type <class 'numpy.ndarray'>\n",
            "train_gen[0][0][0] type <class 'numpy.ndarray'>\n"
          ]
        }
      ]
    },
    {
      "cell_type": "code",
      "source": [
        "print(\"train_gen length:\", len(train_gen))\n",
        "print(\"train_gen[0] length\", len(train_gen[0]))\n",
        "print(\"train_gen[0][0] shape\", train_gen[0][0].shape)\n",
        "print(\"train_gen[0][0][0] shape\", train_gen[0][0][0].shape)"
      ],
      "metadata": {
        "id": "EKn1rj9cGEfr",
        "outputId": "2f738b81-b02f-49b5-e22e-b4f5aabcccba",
        "colab": {
          "base_uri": "https://localhost:8080/"
        }
      },
      "execution_count": 33,
      "outputs": [
        {
          "output_type": "stream",
          "name": "stdout",
          "text": [
            "train_gen length: 29\n",
            "train_gen[0] length 2\n",
            "train_gen[0][0] shape (20, 178, 178, 3)\n",
            "train_gen[0][0][0] shape (178, 178, 3)\n"
          ]
        }
      ]
    },
    {
      "cell_type": "markdown",
      "source": [
        "We notice that each element in the `train_gen`corresponds to the number of samples in a batch. Then, the elements in the `train_gen[x]` tuples are the batches of augmented images for each class, **glaucoma** & **normal**. Therefore, we need to iterate through each batch and class to get the input augmented images and their label for `GridSearchCV`."
      ],
      "metadata": {
        "id": "EmMZiSHsHOZu"
      }
    },
    {
      "cell_type": "code",
      "source": [
        "def extract_images(generator, classes=[\"0\", \"1\"]):\n",
        "\n",
        "  no_of_batches = len(generator)\n",
        "  no_of_classes = len(generator[0])\n",
        "  no_of_samples = generator[0][0].shape[0]\n",
        "  no_of_examples = no_of_batches * no_of_classes * no_of_samples\n",
        "\n",
        "  X_shape = input_shape \n",
        "  y_shape = 1\n",
        "\n",
        "  X = np.empty(X_shape)\n",
        "  y = np.empty(y_shape)\n",
        "\n",
        "  for batch in generator:\n",
        "    print(len(batch))\n",
        "    for i, a_class in enumerate(batch):\n",
        "      print(i)\n",
        "      print(a_class.shape)\n",
        "      for image in a_class:\n",
        "        print(image.shape)\n",
        "        X = np.vstack([X, image])\n",
        "        y = np.vstack([y, classes[i]])\n",
        "\n",
        "  return X, y"
      ],
      "metadata": {
        "id": "5zm6ZJMjJbdA"
      },
      "execution_count": 49,
      "outputs": []
    },
    {
      "cell_type": "code",
      "source": [
        "# Figure out which class is 0 and which is 1\n",
        "train_gen.class_indices"
      ],
      "metadata": {
        "id": "giYtsI1nNqAd",
        "outputId": "79e2e403-ae88-44e9-f1d7-d772fb4eacf6",
        "colab": {
          "base_uri": "https://localhost:8080/"
        }
      },
      "execution_count": 36,
      "outputs": [
        {
          "output_type": "execute_result",
          "data": {
            "text/plain": [
              "{'glaucoma': 0, 'normal': 1}"
            ]
          },
          "metadata": {},
          "execution_count": 36
        }
      ]
    },
    {
      "cell_type": "code",
      "source": [
        "classes = [\"glaucoma\", \"normal\"]\n",
        "\n",
        "X_train, y_train = extract_images(train_gen, classes)\n",
        "X_val, y_val = extract_images(val_gen, classes)"
      ],
      "metadata": {
        "id": "hdXdyswmNigJ",
        "outputId": "b0ba0902-45f6-4ba1-b2eb-a9a5bf8d26e6",
        "colab": {
          "base_uri": "https://localhost:8080/",
          "height": 940
        }
      },
      "execution_count": 50,
      "outputs": [
        {
          "output_type": "stream",
          "name": "stdout",
          "text": [
            "2\n",
            "0\n",
            "(20, 178, 178, 3)\n",
            "(178, 178, 3)\n",
            "(178, 178, 3)\n",
            "(178, 178, 3)\n",
            "(178, 178, 3)\n",
            "(178, 178, 3)\n",
            "(178, 178, 3)\n",
            "(178, 178, 3)\n",
            "(178, 178, 3)\n",
            "(178, 178, 3)\n",
            "(178, 178, 3)\n",
            "(178, 178, 3)\n",
            "(178, 178, 3)\n",
            "(178, 178, 3)\n",
            "(178, 178, 3)\n",
            "(178, 178, 3)\n",
            "(178, 178, 3)\n",
            "(178, 178, 3)\n",
            "(178, 178, 3)\n",
            "(178, 178, 3)\n",
            "(178, 178, 3)\n",
            "1\n",
            "(20,)\n",
            "()\n"
          ]
        },
        {
          "output_type": "error",
          "ename": "ValueError",
          "evalue": "ignored",
          "traceback": [
            "\u001b[0;31m---------------------------------------------------------------------------\u001b[0m",
            "\u001b[0;31mValueError\u001b[0m                                Traceback (most recent call last)",
            "\u001b[0;32m<ipython-input-50-cfcc0e8435a5>\u001b[0m in \u001b[0;36m<module>\u001b[0;34m()\u001b[0m\n\u001b[1;32m      1\u001b[0m \u001b[0mclasses\u001b[0m \u001b[0;34m=\u001b[0m \u001b[0;34m[\u001b[0m\u001b[0;34m\"glaucoma\"\u001b[0m\u001b[0;34m,\u001b[0m \u001b[0;34m\"normal\"\u001b[0m\u001b[0;34m]\u001b[0m\u001b[0;34m\u001b[0m\u001b[0;34m\u001b[0m\u001b[0m\n\u001b[1;32m      2\u001b[0m \u001b[0;34m\u001b[0m\u001b[0m\n\u001b[0;32m----> 3\u001b[0;31m \u001b[0mX_train\u001b[0m\u001b[0;34m,\u001b[0m \u001b[0my_train\u001b[0m \u001b[0;34m=\u001b[0m \u001b[0mextract_images\u001b[0m\u001b[0;34m(\u001b[0m\u001b[0mtrain_gen\u001b[0m\u001b[0;34m,\u001b[0m \u001b[0mclasses\u001b[0m\u001b[0;34m)\u001b[0m\u001b[0;34m\u001b[0m\u001b[0;34m\u001b[0m\u001b[0m\n\u001b[0m\u001b[1;32m      4\u001b[0m \u001b[0mX_val\u001b[0m\u001b[0;34m,\u001b[0m \u001b[0my_val\u001b[0m \u001b[0;34m=\u001b[0m \u001b[0mextract_images\u001b[0m\u001b[0;34m(\u001b[0m\u001b[0mval_gen\u001b[0m\u001b[0;34m,\u001b[0m \u001b[0mclasses\u001b[0m\u001b[0;34m)\u001b[0m\u001b[0;34m\u001b[0m\u001b[0;34m\u001b[0m\u001b[0m\n",
            "\u001b[0;32m<ipython-input-49-06d68c335471>\u001b[0m in \u001b[0;36mextract_images\u001b[0;34m(generator, classes)\u001b[0m\n\u001b[1;32m     19\u001b[0m       \u001b[0;32mfor\u001b[0m \u001b[0mimage\u001b[0m \u001b[0;32min\u001b[0m \u001b[0ma_class\u001b[0m\u001b[0;34m:\u001b[0m\u001b[0;34m\u001b[0m\u001b[0;34m\u001b[0m\u001b[0m\n\u001b[1;32m     20\u001b[0m         \u001b[0mprint\u001b[0m\u001b[0;34m(\u001b[0m\u001b[0mimage\u001b[0m\u001b[0;34m.\u001b[0m\u001b[0mshape\u001b[0m\u001b[0;34m)\u001b[0m\u001b[0;34m\u001b[0m\u001b[0;34m\u001b[0m\u001b[0m\n\u001b[0;32m---> 21\u001b[0;31m         \u001b[0mX\u001b[0m \u001b[0;34m=\u001b[0m \u001b[0mnp\u001b[0m\u001b[0;34m.\u001b[0m\u001b[0mvstack\u001b[0m\u001b[0;34m(\u001b[0m\u001b[0;34m[\u001b[0m\u001b[0mX\u001b[0m\u001b[0;34m,\u001b[0m \u001b[0mimage\u001b[0m\u001b[0;34m]\u001b[0m\u001b[0;34m)\u001b[0m\u001b[0;34m\u001b[0m\u001b[0;34m\u001b[0m\u001b[0m\n\u001b[0m\u001b[1;32m     22\u001b[0m         \u001b[0my\u001b[0m \u001b[0;34m=\u001b[0m \u001b[0mnp\u001b[0m\u001b[0;34m.\u001b[0m\u001b[0mvstack\u001b[0m\u001b[0;34m(\u001b[0m\u001b[0;34m[\u001b[0m\u001b[0my\u001b[0m\u001b[0;34m,\u001b[0m \u001b[0mclasses\u001b[0m\u001b[0;34m[\u001b[0m\u001b[0mi\u001b[0m\u001b[0;34m]\u001b[0m\u001b[0;34m]\u001b[0m\u001b[0;34m)\u001b[0m\u001b[0;34m\u001b[0m\u001b[0;34m\u001b[0m\u001b[0m\n\u001b[1;32m     23\u001b[0m \u001b[0;34m\u001b[0m\u001b[0m\n",
            "\u001b[0;32m<__array_function__ internals>\u001b[0m in \u001b[0;36mvstack\u001b[0;34m(*args, **kwargs)\u001b[0m\n",
            "\u001b[0;32m/usr/local/lib/python3.7/dist-packages/numpy/core/shape_base.py\u001b[0m in \u001b[0;36mvstack\u001b[0;34m(tup)\u001b[0m\n\u001b[1;32m    280\u001b[0m     \u001b[0;32mif\u001b[0m \u001b[0;32mnot\u001b[0m \u001b[0misinstance\u001b[0m\u001b[0;34m(\u001b[0m\u001b[0marrs\u001b[0m\u001b[0;34m,\u001b[0m \u001b[0mlist\u001b[0m\u001b[0;34m)\u001b[0m\u001b[0;34m:\u001b[0m\u001b[0;34m\u001b[0m\u001b[0;34m\u001b[0m\u001b[0m\n\u001b[1;32m    281\u001b[0m         \u001b[0marrs\u001b[0m \u001b[0;34m=\u001b[0m \u001b[0;34m[\u001b[0m\u001b[0marrs\u001b[0m\u001b[0;34m]\u001b[0m\u001b[0;34m\u001b[0m\u001b[0;34m\u001b[0m\u001b[0m\n\u001b[0;32m--> 282\u001b[0;31m     \u001b[0;32mreturn\u001b[0m \u001b[0m_nx\u001b[0m\u001b[0;34m.\u001b[0m\u001b[0mconcatenate\u001b[0m\u001b[0;34m(\u001b[0m\u001b[0marrs\u001b[0m\u001b[0;34m,\u001b[0m \u001b[0;36m0\u001b[0m\u001b[0;34m)\u001b[0m\u001b[0;34m\u001b[0m\u001b[0;34m\u001b[0m\u001b[0m\n\u001b[0m\u001b[1;32m    283\u001b[0m \u001b[0;34m\u001b[0m\u001b[0m\n\u001b[1;32m    284\u001b[0m \u001b[0;34m\u001b[0m\u001b[0m\n",
            "\u001b[0;32m<__array_function__ internals>\u001b[0m in \u001b[0;36mconcatenate\u001b[0;34m(*args, **kwargs)\u001b[0m\n",
            "\u001b[0;31mValueError\u001b[0m: all the input arrays must have same number of dimensions, but the array at index 0 has 3 dimension(s) and the array at index 1 has 2 dimension(s)"
          ]
        }
      ]
    },
    {
      "cell_type": "code",
      "source": [
        "X = np.vstack([X_train, X_val])\n",
        "y = np.vstack([y_train, y_val])"
      ],
      "metadata": {
        "id": "jYnP13UBOplS"
      },
      "execution_count": null,
      "outputs": []
    },
    {
      "cell_type": "code",
      "source": [
        "# Fix random seed for reproducibility\n",
        "seed = 7\n",
        "tf.random.set_seed(seed)\n",
        "\n",
        "# Define the grid search parameters\n",
        "batch_size = [10, 20, 40, 60, 80, 100]\n",
        "epochs = [10, 20, 30, 40, 50]\n",
        "param_grid = dict(batch_size=batch_size, epochs=epochs)\n",
        "grid = GridSearchCV(estimator=create_model(), param_grid=param_grid, n_jobs=-1, cv=3)\n",
        "grid_result = grid.fit(X, y)\n",
        "\n",
        "# Summarize results\n",
        "print(\"Best: %f using %s\" % (grid_result.best_score_, grid_result.best_params_))\n",
        "means = grid_result.cv_results_['mean_test_score']\n",
        "stds = grid_result.cv_results_['std_test_score']\n",
        "params = grid_result.cv_results_['params']\n",
        "for mean, stdev, param in zip(means, stds, params):\n",
        "    print(\"%f (%f) with: %r\" % (mean, stdev, param))\n"
      ],
      "metadata": {
        "id": "GANntdCVMfL8"
      },
      "execution_count": null,
      "outputs": []
    },
    {
      "cell_type": "markdown",
      "source": [
        "#### 3.2.1. Batch size & number of epochs"
      ],
      "metadata": {
        "id": "n8DQ6CR12j03"
      }
    },
    {
      "cell_type": "code",
      "source": [
        ""
      ],
      "metadata": {
        "id": "TTmIDeOa2iEC"
      },
      "execution_count": null,
      "outputs": []
    },
    {
      "cell_type": "code",
      "source": [
        ""
      ],
      "metadata": {
        "id": "eFx68lkc1ynp"
      },
      "execution_count": null,
      "outputs": []
    },
    {
      "cell_type": "markdown",
      "source": [
        "### 3.3. Model evaluation\n",
        "\n",
        "We'll evaluate the final neural network on the Kaggle dataset."
      ],
      "metadata": {
        "id": "S4AY9e_S1ko_"
      }
    }
  ],
  "metadata": {
    "kernelspec": {
      "display_name": "Python 3.8.10 64-bit",
      "language": "python",
      "name": "python3"
    },
    "language_info": {
      "codemirror_mode": {
        "name": "ipython",
        "version": 3
      },
      "file_extension": ".py",
      "mimetype": "text/x-python",
      "name": "python",
      "nbconvert_exporter": "python",
      "pygments_lexer": "ipython3",
      "version": "3.8.10"
    },
    "orig_nbformat": 4,
    "vscode": {
      "interpreter": {
        "hash": "916dbcbb3f70747c44a77c7bcd40155683ae19c65e1c03b4aa3499c5328201f1"
      }
    },
    "colab": {
      "name": "3-simple-CNN-model.ipynb",
      "provenance": []
    }
  },
  "nbformat": 4,
  "nbformat_minor": 0
}