{
  "cells": [
    {
      "cell_type": "markdown",
      "metadata": {
        "id": "CmVTV_tG7ehb"
      },
      "source": [
        "### 2. Data splitting, augmentation, and cropping\n",
        "\n",
        "Before we train any ML model on our data (ACRIMA dataset), we will first split the data into training & validation sets which can later be augmented using keras' `ImageDataGenerator` method. Also, we will preprocess the images from the Kaggle dataset before running the evaluation of the models."
      ]
    },
    {
      "cell_type": "markdown",
      "metadata": {
        "id": "daI8F5zc7ehf"
      },
      "source": [
        "#### 2.1. Train-validation split"
      ]
    },
    {
      "cell_type": "code",
      "execution_count": null,
      "metadata": {
        "id": "2aclZd1T7ehg"
      },
      "outputs": [],
      "source": [
        "import os\n",
        "import shutil\n",
        "import random\n",
        "from tensorflow.keras.preprocessing.image import ImageDataGenerator"
      ]
    },
    {
      "cell_type": "code",
      "execution_count": null,
      "metadata": {
        "id": "93mrZ8BC7ehh"
      },
      "outputs": [],
      "source": [
        "# Get the current working directory\n",
        "current_dir = os.getcwd()\n",
        "\n",
        "# Create new directories to separate the train & validation datasets\n",
        "acrima_dir = os.path.join(current_dir, \"data/acrima-dataset\")\n",
        "new_directories = [\"train\", \"validation\"]\n",
        "new_subdirectories = [\"glaucoma\", \"normal\"]\n",
        "\n",
        "for directory in new_directories:\n",
        "    new_directory_path = os.path.join(acrima_dir, directory)\n",
        "    if os.path.isdir(new_directory_path) == False:\n",
        "        os.makedirs(new_directory_path)\n",
        "\n",
        "    for subdirectory in new_subdirectories:\n",
        "        new_subdirectory_path = os.path.join(new_directory_path, subdirectory)\n",
        "        if os.path.isdir(new_subdirectory_path) == False:\n",
        "            os.makedirs(new_subdirectory_path)"
      ]
    },
    {
      "cell_type": "code",
      "execution_count": null,
      "metadata": {
        "id": "y_Kqq0Ql7ehi"
      },
      "outputs": [],
      "source": [
        "# Create function to split data from glaucoma & normal folders\n",
        "def split_data(source_dir, train_dir, val_dir, split_size):\n",
        "    source_files = os.listdir(source_dir)\n",
        "\n",
        "    # Ensure there are non-empty files\n",
        "    files_to_copy = []\n",
        "\n",
        "    for file_path in source_files:\n",
        "        if os.path.getsize(os.path.join(source_dir, file_path)) > 0:\n",
        "            files_to_copy.append(file_path)\n",
        "\n",
        "    # Shuffle the files in the list for further random selection\n",
        "    files_to_copy = random.sample(files_to_copy, len(files_to_copy))\n",
        "\n",
        "    # Remove previous files from training & validation folders\n",
        "    for file_path in os.listdir(train_dir):\n",
        "        os.remove(os.path.join(train_dir, file_path))\n",
        "\n",
        "    for file_path in os.listdir(val_dir):\n",
        "        os.remove(os.path.join(val_dir, file_path))\n",
        "\n",
        "    # Copy files to the training & validation set\n",
        "    training_size = int(split_size * len(files_to_copy))\n",
        "    for i in range(0, training_size):\n",
        "        source_path = os.path.join(source_dir, files_to_copy[i])\n",
        "        destination_path = os.path.join(train_dir, files_to_copy[i])\n",
        "        shutil.copyfile(source_path, destination_path) \n",
        "\n",
        "    for i in range(training_size, len(files_to_copy)):\n",
        "        source_path = os.path.join(source_dir, files_to_copy[i])\n",
        "        destination_path = os.path.join(val_dir, files_to_copy[i])\n",
        "        shutil.copyfile(source_path, destination_path) "
      ]
    },
    {
      "cell_type": "code",
      "execution_count": null,
      "metadata": {
        "id": "gSOYRNan7ehj"
      },
      "outputs": [],
      "source": [
        "# Copy the glaucoma files into the train & validation datasets\n",
        "glaucoma_dir = os.path.join(acrima_dir, \"glaucoma\")\n",
        "glaucoma_train_dir = os.path.join(acrima_dir, \"train/glaucoma\")\n",
        "glaucoma_val_dir = os.path.join(acrima_dir, \"validation/glaucoma\")\n",
        "\n",
        "# We will use a 80% split size initially\n",
        "split_size = 0.8\n",
        "split_data(glaucoma_dir, glaucoma_train_dir, glaucoma_val_dir, split_size=split_size)"
      ]
    },
    {
      "cell_type": "code",
      "execution_count": null,
      "metadata": {
        "id": "Alvg0uOf7ehk"
      },
      "outputs": [],
      "source": [
        "# Copy the normal files into the train & validation datasets\n",
        "normal_dir = os.path.join(acrima_dir, \"normal\")\n",
        "normal_train_dir = os.path.join(acrima_dir, \"train/normal\")\n",
        "normal_val_dir = os.path.join(acrima_dir, \"validation/normal\")\n",
        "\n",
        "# We'll use the same split size\n",
        "split_data(normal_dir, normal_train_dir, normal_val_dir, split_size=split_size)"
      ]
    },
    {
      "cell_type": "markdown",
      "metadata": {
        "id": "SLAV68sx7ehl"
      },
      "source": [
        "#### 2.2. Image augmentation"
      ]
    },
    {
      "cell_type": "code",
      "execution_count": null,
      "metadata": {
        "id": "99VKXvj37ehl"
      },
      "outputs": [],
      "source": [
        "# Create image generators for the training & validation data\n",
        "def image_generators(train_dir, val_dir, train_img_size, val_img_size):\n",
        "  \"\"\"\n",
        "  Inputs:\n",
        "  train_dir = training data directory\n",
        "  val_dir = validation data directory\n",
        "  train_img_size = the size of the training input images (tuple)\n",
        "  val_img_size = the size of the validation input images (tuple)\n",
        "\n",
        "  Outputs:\n",
        "  train_generator = image generator for training data\n",
        "  val_generator = image generator for validation data\n",
        "  \"\"\"\n",
        "\n",
        "  # Instatiate ImageGenerator & rescale\n",
        "  train_datagen = ImageDataGenerator(rescale=1./255)\n",
        "  val_datagen = ImageDataGenerator(rescale=1./255)\n",
        "\n",
        "  # Apply the ImageGenerator to the training & validation datasets\n",
        "  train_generator = train_datagen.flow_from_directory(directory=train_dir,\n",
        "                                                      batch_size=20,\n",
        "                                                      class_mode='binary',\n",
        "                                                      target_size=train_img_size)\n",
        "\n",
        "  val_generator = val_datagen.flow_from_directory(directory=val_dir,\n",
        "                                                                batch_size=20,\n",
        "                                                                class_mode='binary',\n",
        "                                                                target_size=val_img_size)\n",
        "  \n",
        "  return train_generator, val_generator"
      ]
    },
    {
      "cell_type": "markdown",
      "metadata": {
        "id": "XPaQYOlm7ehm"
      },
      "source": [
        "These functions are also saved in `utils.py` for use in later notebooks."
      ]
    },
    {
      "cell_type": "markdown",
      "source": [
        "#### 2.3. Testing data preprocessing\n",
        "\n",
        "Given that evaluation on the full-sized retinal fundus images in the kaggle dataset yielded poor results both with the simple and more complex deep learning models, we will crop the images before re-evaluating them.\n",
        "\n",
        "To do so, we employ a cropping function from [Huazhu Fu's repository](https://github.com/HzFu/MNet_DeepCDR) from a paper on optic disc & cup segmentation[$^{[1]}$](https://arxiv.org/abs/1801.00926), which is based on a U-Net architecture trained to detect the optical disc."
      ],
      "metadata": {
        "id": "HxTt6-hx7kTt"
      }
    },
    {
      "cell_type": "code",
      "source": [
        "from google.colab import drive\n",
        "drive.mount('/content/drive')"
      ],
      "metadata": {
        "id": "JQ3qUKCP__m4",
        "outputId": "148623b4-fb78-467c-8381-cb292f33ac99",
        "colab": {
          "base_uri": "https://localhost:8080/"
        }
      },
      "execution_count": 19,
      "outputs": [
        {
          "output_type": "stream",
          "name": "stdout",
          "text": [
            "Drive already mounted at /content/drive; to attempt to forcibly remount, call drive.mount(\"/content/drive\", force_remount=True).\n"
          ]
        }
      ]
    },
    {
      "cell_type": "code",
      "source": [
        "# Code taken and adapted from optic disc / cup segmentation paper\n",
        "from __future__ import print_function\n",
        "\n",
        "from os import path\n",
        "from sys import modules\n",
        "\n",
        "import cv2\n",
        "import matplotlib.pyplot as plt\n",
        "import numpy as np\n",
        "from PIL import Image\n",
        "from pkg_resources import resource_filename\n",
        "from skimage.measure import label, regionprops\n",
        "from skimage.transform import rotate, resize\n",
        "from tensorflow.keras.preprocessing import image\n",
        "\n",
        "from cropping_scripts import Model_DiscSeg as DiscModel\n",
        "from cropping_scripts.mnet_utils import BW_img, disc_crop, mk_dir, files_with_ext"
      ],
      "metadata": {
        "id": "_dooasWg-3KG"
      },
      "execution_count": 21,
      "outputs": []
    },
    {
      "cell_type": "code",
      "source": [
        "data_type = '.png'\n",
        "parent_dir = \"drive/MyDrive\"\n",
        "g_data_img_path = path.abspath(path.join(parent_dir, 'kaggle_dataset', 'glaucoma'))\n",
        "g_data_save_path = mk_dir(path.join(parent_dir, 'training_crop', 'glaucoma'))\n",
        "n_data_img_path = path.abspath(path.join(parent_dir, 'kaggle_dataset', 'normal'))\n",
        "n_data_save_path = mk_dir(path.join(parent_dir, 'training_crop', 'normal'))"
      ],
      "metadata": {
        "id": "-_9guXIec1Tb"
      },
      "execution_count": 22,
      "outputs": []
    },
    {
      "cell_type": "code",
      "source": [
        "# Adapt the optic disc segmentation code to current problem\n",
        "def crop_images(parent_dir, data_img_path, data_save_path, data_type='.png', disc_list=[400, 500, 600, 700, 800], \\\n",
        "                DiscROI_size=800, DiscSeg_size=640, CDRSeg_size=400):\n",
        "  \n",
        "  file_test_list = files_with_ext(data_img_path, data_type)\n",
        "\n",
        "  # Load segmentation model\n",
        "  DiscSeg_model = DiscModel.DeepModel(size_set=DiscSeg_size)\n",
        "  DiscSeg_model.load_weights(path.join(parent_dir, 'deep_model', 'Model_DiscSeg_ORIGA.h5'))\n",
        "\n",
        "  for lineIdx, temp_txt in enumerate(file_test_list):\n",
        "\n",
        "      # Show preprocessing progress\n",
        "      print('Processing Img {idx}: {temp_txt}'.format(idx=lineIdx + 1, temp_txt=temp_txt))\n",
        "\n",
        "      # Load image\n",
        "      org_img = np.asarray(image.load_img(path.join(data_img_path, temp_txt)))\n",
        "\n",
        "      # Disc region detection by U-Net\n",
        "      temp_img = resize(org_img, (DiscSeg_size, DiscSeg_size, 3)) * 255\n",
        "      temp_img = np.reshape(temp_img, (1,) + temp_img.shape)\n",
        "      disc_map = DiscSeg_model.predict([temp_img])\n",
        "      disc_map = BW_img(np.reshape(disc_map, (DiscSeg_size, DiscSeg_size)), 0.5)\n",
        "      regions = regionprops(label(disc_map))\n",
        "      C_x = int(regions[0].centroid[0] * org_img.shape[0] / DiscSeg_size)\n",
        "      C_y = int(regions[0].centroid[1] * org_img.shape[1] / DiscSeg_size)\n",
        "\n",
        "      for disc_idx, DiscROI_size in enumerate(disc_list):\n",
        "          disc_region, err_coord, crop_coord = disc_crop(org_img, DiscROI_size, C_x, C_y)\n",
        "          disc_result = Image.fromarray((disc_region).astype(np.uint8))\n",
        "          filename = '{}_{}.png'.format(temp_txt[:-4], DiscROI_size)\n",
        "          disc_result.save(path.join(data_save_path, filename))\n",
        "\n",
        "  plt.imshow(disc_result)\n",
        "  plt.show()"
      ],
      "metadata": {
        "id": "0f811ZUGcvuW"
      },
      "execution_count": 23,
      "outputs": []
    },
    {
      "cell_type": "code",
      "source": [
        "crop_images(parent_dir, g_data_img_path, g_data_save_path, disc_list=[600])"
      ],
      "metadata": {
        "id": "X735jtB0dnVj"
      },
      "execution_count": null,
      "outputs": []
    },
    {
      "cell_type": "code",
      "source": [
        "crop_images(parent_dir, n_data_img_path, n_data_save_path, disc_list=[600])"
      ],
      "metadata": {
        "id": "NPL6CAR0ixK4",
        "outputId": "2b4747ff-f8fa-4570-b58b-7b1bc4dddde4",
        "colab": {
          "base_uri": "https://localhost:8080/",
          "height": 1000
        }
      },
      "execution_count": 24,
      "outputs": [
        {
          "output_type": "stream",
          "name": "stdout",
          "text": [
            "300\n",
            "Processing Img 1: NL_001.png\n",
            "Processing Img 2: NL_002.png\n",
            "Processing Img 3: NL_003.png\n",
            "Processing Img 4: NL_004.png\n",
            "Processing Img 5: NL_005.png\n",
            "Processing Img 6: NL_006.png\n",
            "Processing Img 7: NL_007.png\n",
            "Processing Img 8: NL_008.png\n",
            "Processing Img 9: NL_009.png\n",
            "Processing Img 10: NL_011.png\n",
            "Processing Img 11: NL_012.png\n",
            "Processing Img 12: NL_010.png\n",
            "Processing Img 13: NL_016.png\n",
            "Processing Img 14: NL_013.png\n",
            "Processing Img 15: NL_017.png\n",
            "Processing Img 16: NL_018.png\n",
            "Processing Img 17: NL_015.png\n",
            "Processing Img 18: NL_014.png\n",
            "Processing Img 19: NL_025.png\n",
            "Processing Img 20: NL_021.png\n",
            "Processing Img 21: NL_020.png\n",
            "Processing Img 22: NL_023.png\n",
            "Processing Img 23: NL_019.png\n",
            "Processing Img 24: NL_024.png\n",
            "Processing Img 25: NL_022.png\n",
            "Processing Img 26: NL_027.png\n",
            "Processing Img 27: NL_029.png\n",
            "Processing Img 28: NL_026.png\n",
            "Processing Img 29: NL_028.png\n",
            "Processing Img 30: NL_030.png\n",
            "Processing Img 31: NL_034.png\n",
            "Processing Img 32: NL_037.png\n",
            "Processing Img 33: NL_035.png\n",
            "Processing Img 34: NL_033.png\n",
            "Processing Img 35: NL_031.png\n",
            "Processing Img 36: NL_036.png\n",
            "Processing Img 37: NL_032.png\n",
            "Processing Img 38: NL_041.png\n",
            "Processing Img 39: NL_042.png\n",
            "Processing Img 40: NL_043.png\n",
            "Processing Img 41: NL_039.png\n",
            "Processing Img 42: NL_040.png\n",
            "Processing Img 43: NL_038.png\n",
            "Processing Img 44: NL_045.png\n",
            "Processing Img 45: NL_049.png\n",
            "Processing Img 46: NL_046.png\n",
            "Processing Img 47: NL_044.png\n",
            "Processing Img 48: NL_050.png\n",
            "Processing Img 49: NL_047.png\n",
            "Processing Img 50: NL_048.png\n",
            "Processing Img 51: NL_054.png\n",
            "Processing Img 52: NL_053.png\n",
            "Processing Img 53: NL_055.png\n",
            "Processing Img 54: NL_051.png\n",
            "Processing Img 55: NL_056.png\n",
            "Processing Img 56: NL_052.png\n",
            "Processing Img 57: NL_058.png\n",
            "Processing Img 58: NL_057.png\n",
            "Processing Img 59: NL_060.png\n",
            "Processing Img 60: NL_062.png\n",
            "Processing Img 61: NL_059.png\n",
            "Processing Img 62: NL_061.png\n",
            "Processing Img 63: NL_063.png\n",
            "Processing Img 64: NL_068.png\n",
            "Processing Img 65: NL_065.png\n",
            "Processing Img 66: NL_064.png\n",
            "Processing Img 67: NL_066.png\n",
            "Processing Img 68: NL_067.png\n",
            "Processing Img 69: NL_069.png\n",
            "Processing Img 70: NL_072.png\n",
            "Processing Img 71: NL_074.png\n",
            "Processing Img 72: NL_073.png\n",
            "Processing Img 73: NL_071.png\n",
            "Processing Img 74: NL_070.png\n",
            "Processing Img 75: NL_075.png\n",
            "Processing Img 76: NL_076.png\n",
            "Processing Img 77: NL_081.png\n",
            "Processing Img 78: NL_078.png\n",
            "Processing Img 79: NL_079.png\n",
            "Processing Img 80: NL_080.png\n",
            "Processing Img 81: NL_077.png\n",
            "Processing Img 82: NL_086.png\n",
            "Processing Img 83: NL_087.png\n",
            "Processing Img 84: NL_082.png\n",
            "Processing Img 85: NL_083.png\n",
            "Processing Img 86: NL_085.png\n",
            "Processing Img 87: NL_084.png\n",
            "Processing Img 88: NL_093.png\n",
            "Processing Img 89: NL_089.png\n",
            "Processing Img 90: NL_091.png\n",
            "Processing Img 91: NL_090.png\n",
            "Processing Img 92: NL_088.png\n",
            "Processing Img 93: NL_094.png\n",
            "Processing Img 94: NL_092.png\n",
            "Processing Img 95: NL_100.png\n",
            "Processing Img 96: NL_097.png\n",
            "Processing Img 97: NL_095.png\n",
            "Processing Img 98: NL_099.png\n",
            "Processing Img 99: NL_098.png\n",
            "Processing Img 100: NL_096.png\n",
            "Processing Img 101: NL_102.png\n",
            "Processing Img 102: NL_105.png\n",
            "Processing Img 103: NL_104.png\n",
            "Processing Img 104: NL_101.png\n",
            "Processing Img 105: NL_106.png\n",
            "Processing Img 106: NL_103.png\n",
            "Processing Img 107: NL_107.png\n",
            "Processing Img 108: NL_110.png\n",
            "Processing Img 109: NL_111.png\n",
            "Processing Img 110: NL_109.png\n",
            "Processing Img 111: NL_112.png\n",
            "Processing Img 112: NL_108.png\n",
            "Processing Img 113: NL_116.png\n",
            "Processing Img 114: NL_115.png\n",
            "Processing Img 115: NL_118.png\n",
            "Processing Img 116: NL_117.png\n",
            "Processing Img 117: NL_113.png\n",
            "Processing Img 118: NL_114.png\n",
            "Processing Img 119: NL_120.png\n",
            "Processing Img 120: NL_124.png\n",
            "Processing Img 121: NL_119.png\n",
            "Processing Img 122: NL_125.png\n",
            "Processing Img 123: NL_121.png\n",
            "Processing Img 124: NL_122.png\n",
            "Processing Img 125: NL_123.png\n",
            "Processing Img 126: NL_130.png\n",
            "Processing Img 127: NL_129.png\n",
            "Processing Img 128: NL_128.png\n",
            "Processing Img 129: NL_126.png\n",
            "Processing Img 130: NL_127.png\n",
            "Processing Img 131: NL_134.png\n",
            "Processing Img 132: NL_132.png\n",
            "Processing Img 133: NL_136.png\n",
            "Processing Img 134: NL_135.png\n",
            "Processing Img 135: NL_133.png\n",
            "Processing Img 136: NL_131.png\n",
            "Processing Img 137: NL_137.png\n",
            "Processing Img 138: NL_141.png\n",
            "Processing Img 139: NL_138.png\n",
            "Processing Img 140: NL_142.png\n",
            "Processing Img 141: NL_140.png\n",
            "Processing Img 142: NL_139.png\n",
            "Processing Img 143: NL_143.png\n",
            "Processing Img 144: NL_145.png\n",
            "Processing Img 145: NL_149.png\n",
            "Processing Img 146: NL_144.png\n",
            "Processing Img 147: NL_147.png\n",
            "Processing Img 148: NL_148.png\n",
            "Processing Img 149: NL_146.png\n",
            "Processing Img 150: NL_151.png\n",
            "Processing Img 151: NL_153.png\n",
            "Processing Img 152: NL_154.png\n",
            "Processing Img 153: NL_155.png\n",
            "Processing Img 154: NL_150.png\n",
            "Processing Img 155: NL_152.png\n",
            "Processing Img 156: NL_160.png\n",
            "Processing Img 157: NL_161.png\n",
            "Processing Img 158: NL_162.png\n",
            "Processing Img 159: NL_159.png\n",
            "Processing Img 160: NL_157.png\n",
            "Processing Img 161: NL_156.png\n",
            "Processing Img 162: NL_158.png\n",
            "Processing Img 163: NL_164.png\n",
            "Processing Img 164: NL_166.png\n",
            "Processing Img 165: NL_168.png\n",
            "Processing Img 166: NL_169.png\n",
            "Processing Img 167: NL_167.png\n",
            "Processing Img 168: NL_165.png\n",
            "Processing Img 169: NL_163.png\n",
            "Processing Img 170: NL_170.png\n",
            "Processing Img 171: NL_173.png\n",
            "Processing Img 172: NL_176.png\n",
            "Processing Img 173: NL_175.png\n",
            "Processing Img 174: NL_171.png\n",
            "Processing Img 175: NL_172.png\n",
            "Processing Img 176: NL_174.png\n",
            "Processing Img 177: NL_182.png\n",
            "Processing Img 178: NL_181.png\n",
            "Processing Img 179: NL_179.png\n",
            "Processing Img 180: NL_178.png\n",
            "Processing Img 181: NL_180.png\n",
            "Processing Img 182: NL_177.png\n",
            "Processing Img 183: NL_189.png\n",
            "Processing Img 184: NL_185.png\n",
            "Processing Img 185: NL_188.png\n",
            "Processing Img 186: NL_186.png\n",
            "Processing Img 187: NL_184.png\n",
            "Processing Img 188: NL_183.png\n",
            "Processing Img 189: NL_187.png\n",
            "Processing Img 190: NL_196.png\n",
            "Processing Img 191: NL_192.png\n",
            "Processing Img 192: NL_193.png\n",
            "Processing Img 193: NL_190.png\n",
            "Processing Img 194: NL_191.png\n",
            "Processing Img 195: NL_194.png\n",
            "Processing Img 196: NL_195.png\n",
            "Processing Img 197: NL_199.png\n",
            "Processing Img 198: NL_197.png\n",
            "Processing Img 199: NL_200.png\n",
            "Processing Img 200: NL_202.png\n",
            "Processing Img 201: NL_198.png\n",
            "Processing Img 202: NL_201.png\n",
            "Processing Img 203: NL_206.png\n",
            "Processing Img 204: NL_208.png\n",
            "Processing Img 205: NL_205.png\n",
            "Processing Img 206: NL_204.png\n",
            "Processing Img 207: NL_203.png\n",
            "Processing Img 208: NL_207.png\n",
            "Processing Img 209: NL_210.png\n",
            "Processing Img 210: NL_211.png\n",
            "Processing Img 211: NL_215.png\n",
            "Processing Img 212: NL_212.png\n",
            "Processing Img 213: NL_213.png\n",
            "Processing Img 214: NL_214.png\n",
            "Processing Img 215: NL_209.png\n",
            "Processing Img 216: NL_222.png\n",
            "Processing Img 217: NL_220.png\n",
            "Processing Img 218: NL_219.png\n",
            "Processing Img 219: NL_217.png\n",
            "Processing Img 220: NL_216.png\n",
            "Processing Img 221: NL_218.png\n",
            "Processing Img 222: NL_221.png\n",
            "Processing Img 223: NL_226.png\n",
            "Processing Img 224: NL_225.png\n",
            "Processing Img 225: NL_227.png\n",
            "Processing Img 226: NL_223.png\n",
            "Processing Img 227: NL_224.png\n",
            "Processing Img 228: NL_228.png\n",
            "Processing Img 229: NL_233.png\n",
            "Processing Img 230: NL_234.png\n",
            "Processing Img 231: NL_229.png\n",
            "Processing Img 232: NL_230.png\n",
            "Processing Img 233: NL_235.png\n",
            "Processing Img 234: NL_232.png\n",
            "Processing Img 235: NL_231.png\n",
            "Processing Img 236: NL_237.png\n",
            "Processing Img 237: NL_240.png\n",
            "Processing Img 238: NL_239.png\n",
            "Processing Img 239: NL_238.png\n",
            "Processing Img 240: NL_242.png\n",
            "Processing Img 241: NL_236.png\n",
            "Processing Img 242: NL_243.png\n",
            "Processing Img 243: NL_241.png\n",
            "Processing Img 244: NL_247.png\n",
            "Processing Img 245: NL_248.png\n",
            "Processing Img 246: NL_244.png\n",
            "Processing Img 247: NL_246.png\n",
            "Processing Img 248: NL_245.png\n",
            "Processing Img 249: NL_249.png\n",
            "Processing Img 250: NL_251.png\n",
            "Processing Img 251: NL_255.png\n",
            "Processing Img 252: NL_250.png\n",
            "Processing Img 253: NL_253.png\n",
            "Processing Img 254: NL_254.png\n",
            "Processing Img 255: NL_252.png\n",
            "Processing Img 256: NL_256.png\n",
            "Processing Img 257: NL_258.png\n",
            "Processing Img 258: NL_259.png\n",
            "Processing Img 259: NL_260.png\n",
            "Processing Img 260: NL_262.png\n",
            "Processing Img 261: NL_261.png\n",
            "Processing Img 262: NL_257.png\n",
            "Processing Img 263: NL_268.png\n",
            "Processing Img 264: NL_267.png\n",
            "Processing Img 265: NL_270.png\n",
            "Processing Img 266: NL_264.png\n",
            "Processing Img 267: NL_269.png\n",
            "Processing Img 268: NL_263.png\n",
            "Processing Img 269: NL_266.png\n",
            "Processing Img 270: NL_265.png\n",
            "Processing Img 271: NL_275.png\n",
            "Processing Img 272: NL_274.png\n",
            "Processing Img 273: NL_276.png\n",
            "Processing Img 274: NL_271.png\n",
            "Processing Img 275: NL_273.png\n",
            "Processing Img 276: NL_272.png\n",
            "Processing Img 277: NL_277.png\n",
            "Processing Img 278: NL_281.png\n",
            "Processing Img 279: NL_280.png\n",
            "Processing Img 280: NL_282.png\n",
            "Processing Img 281: NL_279.png\n",
            "Processing Img 282: NL_278.png\n",
            "Processing Img 283: NL_289.png\n",
            "Processing Img 284: NL_288.png\n",
            "Processing Img 285: NL_290.png\n",
            "Processing Img 286: NL_284.png\n",
            "Processing Img 287: NL_283.png\n",
            "Processing Img 288: NL_287.png\n",
            "Processing Img 289: NL_285.png\n",
            "Processing Img 290: NL_286.png\n",
            "Processing Img 291: NL_292.png\n",
            "Processing Img 292: NL_291.png\n",
            "Processing Img 293: NL_293.png\n",
            "Processing Img 294: NL_294.png\n",
            "Processing Img 295: NL_296.png\n",
            "Processing Img 296: NL_295.png\n",
            "Processing Img 297: NL_300.png\n",
            "Processing Img 298: NL_298.png\n",
            "Processing Img 299: NL_299.png\n",
            "Processing Img 300: NL_297.png\n"
          ]
        },
        {
          "output_type": "display_data",
          "data": {
            "text/plain": [
              "<Figure size 432x288 with 1 Axes>"
            ],
            "image/png": "[encoded data removed]"
          },
          "metadata": {
            "needs_background": "light"
          }
        }
      ]
    },
    {
      "cell_type": "markdown",
      "source": [
        "#### 2.4. References\n",
        "\n",
        "[1] Huazhu Fu, Jun Cheng, Yanwu Xu, Damon Wing Kee Wong, Jiang Liu, and Xiaochun Cao, \"Joint Optic Disc and Cup Segmentation Based on Multi-label Deep Network and Polar Transformation\", IEEE Transactions on Medical Imaging (TMI), vol. 37, no. 7, pp. 1597–1605, 2018. [PDF](https://arxiv.org/abs/1801.00926)"
      ],
      "metadata": {
        "id": "wtGJoWTX9odz"
      }
    }
  ],
  "metadata": {
    "kernelspec": {
      "display_name": "Python 3.8.10 64-bit",
      "language": "python",
      "name": "python3"
    },
    "language_info": {
      "codemirror_mode": {
        "name": "ipython",
        "version": 3
      },
      "file_extension": ".py",
      "mimetype": "text/x-python",
      "name": "python",
      "nbconvert_exporter": "python",
      "pygments_lexer": "ipython3",
      "version": "3.8.10"
    },
    "orig_nbformat": 4,
    "vscode": {
      "interpreter": {
        "hash": "916dbcbb3f70747c44a77c7bcd40155683ae19c65e1c03b4aa3499c5328201f1"
      }
    },
    "colab": {
      "name": "2-data-splitting-and-augmentation.ipynb",
      "provenance": []
    }
  },
  "nbformat": 4,
  "nbformat_minor": 0
}