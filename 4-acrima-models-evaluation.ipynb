{
  "cells": [
    {
      "cell_type": "code",
      "source": [
        "from google.colab import drive\n",
        "drive.mount('/content/drive')"
      ],
      "metadata": {
        "id": "JZrKJM9MJ9u_",
        "outputId": "e230387c-8a59-4ba7-8964-f83836d83ed5",
        "colab": {
          "base_uri": "https://localhost:8080/"
        }
      },
      "execution_count": 1,
      "outputs": [
        {
          "output_type": "stream",
          "name": "stdout",
          "text": [
            "Mounted at /content/drive\n"
          ]
        }
      ]
    },
    {
      "cell_type": "markdown",
      "metadata": {
        "id": "9Lv7vdPLJ3TP"
      },
      "source": [
        "### 4. ACRIMA models evaluation\n",
        "\n",
        "The researchers working on the ACRIMA data prediction model also included their models along with the dataset. Therefore, we'll try to use their models on the Kaggle dataset and see how they're performing compared to the simple CNN models in the previous notebook.\n",
        "\n",
        "Each model is saved in a JSON file, with the algorithm weights being saved in a h5 file (Hierarchical Data Format). The files can be found [here](https://drive.google.com/drive/folders/133uwNfPLYQs2fyfmAfpWQXH4Zggkb3aF?usp=sharing)."
      ]
    },
    {
      "cell_type": "code",
      "execution_count": 14,
      "metadata": {
        "id": "NMGdZXNBJ3TS"
      },
      "outputs": [],
      "source": [
        "import os\n",
        "import numpy as np\n",
        "from utils import get_testing_data, load_acrima_model"
      ]
    },
    {
      "cell_type": "code",
      "execution_count": 4,
      "metadata": {
        "id": "0LRLzfl3J3TU"
      },
      "outputs": [],
      "source": [
        "# Load images for evaluation\n",
        "kaggle_dir = \"drive/MyDrive/kaggle_dataset\"\n",
        "kaggle_g_dir = os.path.join(kaggle_dir, \"glaucoma\")\n",
        "kaggle_n_dir = os.path.join(kaggle_dir, \"normal\")\n",
        "\n",
        "X_g, y_g = get_testing_data([kaggle_g_dir], (299, 299))\n",
        "X_n, y_n = get_testing_data([kaggle_n_dir], (299, 299))"
      ]
    },
    {
      "cell_type": "code",
      "source": [
        "models_dir = \"drive/MyDrive/pre-trained-models\""
      ],
      "metadata": {
        "id": "MZ0xmxwJLDDN"
      },
      "execution_count": 6,
      "outputs": []
    },
    {
      "cell_type": "markdown",
      "metadata": {
        "id": "TMUMdXc3J3TW"
      },
      "source": [
        "#### 4.1. InceptionV3"
      ]
    },
    {
      "cell_type": "code",
      "execution_count": 15,
      "metadata": {
        "id": "btqaLMo_J3TX",
        "outputId": "f8c6cc0d-479e-40cc-b20b-12ff7014ef9c",
        "colab": {
          "base_uri": "https://localhost:8080/",
          "height": 172
        }
      },
      "outputs": [
        {
          "output_type": "error",
          "ename": "TypeError",
          "evalue": "ignored",
          "traceback": [
            "\u001b[0;31m---------------------------------------------------------------------------\u001b[0m",
            "\u001b[0;31mTypeError\u001b[0m                                 Traceback (most recent call last)",
            "\u001b[0;32m<ipython-input-15-3904143e4185>\u001b[0m in \u001b[0;36m<module>\u001b[0;34m()\u001b[0m\n\u001b[0;32m----> 1\u001b[0;31m \u001b[0minception_model\u001b[0m \u001b[0;34m=\u001b[0m \u001b[0mload_acrima_model\u001b[0m\u001b[0;34m(\u001b[0m\u001b[0;34m\"InceptionV3\"\u001b[0m\u001b[0;34m,\u001b[0m \u001b[0mmodels_dir\u001b[0m\u001b[0;34m)\u001b[0m\u001b[0;34m\u001b[0m\u001b[0;34m\u001b[0m\u001b[0m\n\u001b[0m",
            "\u001b[0;31mTypeError\u001b[0m: load_acrima_model() takes 1 positional argument but 2 were given"
          ]
        }
      ],
      "source": [
        "inception_model = load_acrima_model(\"InceptionV3\", models_dir)"
      ]
    },
    {
      "cell_type": "markdown",
      "metadata": {
        "id": "af9IKIZmJ3TX"
      },
      "source": [
        "We notice that the model already has a final dense layer for classification, so no more layers need to be added."
      ]
    },
    {
      "cell_type": "code",
      "execution_count": null,
      "metadata": {
        "id": "F2aKivkOJ3TY"
      },
      "outputs": [],
      "source": [
        "y_g_pred = inception_model.predict(X_g, batch_size=20)\n",
        "y_n_pred = inception_model.predict(X_n, batch_size=20)\n",
        "\n",
        "# Change data type from float to int\n",
        "y_g_pred = y_g_pred.astype(int)\n",
        "y_n_pred = y_n_pred.astype(int)\n",
        "\n",
        "# Concatenate the dataframes for the accuracy analysis\n",
        "y_test = np.hstack([y_g, y_n])\n",
        "print(y_test.shape)\n",
        "y_test_pred = np.vstack([y_g_pred, y_n_pred])\n",
        "print(y_test_pred.shape)"
      ]
    },
    {
      "cell_type": "markdown",
      "metadata": {
        "id": "IznKIF4PJ3TY"
      },
      "source": [
        "#### 4.2. ResNet50"
      ]
    },
    {
      "cell_type": "code",
      "execution_count": null,
      "metadata": {
        "id": "Yq3g4sniJ3TZ"
      },
      "outputs": [],
      "source": [
        "resnet_model = load_acrima_model(\"ResNet50\")"
      ]
    },
    {
      "cell_type": "code",
      "execution_count": null,
      "metadata": {
        "id": "1CvXvhuTJ3Ta"
      },
      "outputs": [],
      "source": [
        "y_g_pred = resnet_model.predict(X_g, batch_size=20)\n",
        "y_n_pred = resnet_model.predict(X_n, batch_size=20)"
      ]
    },
    {
      "cell_type": "markdown",
      "metadata": {
        "id": "ZJxc_aQZJ3Tb"
      },
      "source": [
        "#### 4.3. VGG16"
      ]
    },
    {
      "cell_type": "code",
      "execution_count": null,
      "metadata": {
        "id": "qt_QeG85J3Tb"
      },
      "outputs": [],
      "source": [
        "vgg16_model = load_acrima_model(\"VGG16\")"
      ]
    },
    {
      "cell_type": "code",
      "execution_count": null,
      "metadata": {
        "id": "T906nm4XJ3Tc"
      },
      "outputs": [],
      "source": [
        "y_g_pred = resnet_model.predict(X_g, batch_size=20)\n",
        "y_n_pred = resnet_model.predict(X_n, batch_size=20)"
      ]
    },
    {
      "cell_type": "markdown",
      "metadata": {
        "id": "VdeYYRxzJ3Tc"
      },
      "source": [
        "#### 4.4. VGG19"
      ]
    },
    {
      "cell_type": "code",
      "execution_count": null,
      "metadata": {
        "id": "qtj_R4oNJ3Tc"
      },
      "outputs": [],
      "source": [
        "vgg19_model = load_acrima_model(\"VGG19\")"
      ]
    },
    {
      "cell_type": "code",
      "execution_count": null,
      "metadata": {
        "id": "7U8h_YNLJ3Td"
      },
      "outputs": [],
      "source": [
        "y_g_pred = resnet_model.predict(X_g, batch_size=20)\n",
        "y_n_pred = resnet_model.predict(X_n, batch_size=20)"
      ]
    },
    {
      "cell_type": "markdown",
      "metadata": {
        "id": "VDwexPFzJ3Td"
      },
      "source": [
        "#### 4.5. Xception"
      ]
    },
    {
      "cell_type": "code",
      "execution_count": null,
      "metadata": {
        "id": "FQh3vc8eJ3Td"
      },
      "outputs": [],
      "source": [
        "xception_model = load_acrima_model(\"Xception\")"
      ]
    },
    {
      "cell_type": "code",
      "execution_count": null,
      "metadata": {
        "id": "EnLyHk2cJ3Te"
      },
      "outputs": [],
      "source": [
        "y_g_pred = resnet_model.predict(X_g, batch_size=20)\n",
        "y_n_pred = resnet_model.predict(X_n, batch_size=20)"
      ]
    }
  ],
  "metadata": {
    "kernelspec": {
      "display_name": "Python 3.8.10 64-bit",
      "language": "python",
      "name": "python3"
    },
    "language_info": {
      "codemirror_mode": {
        "name": "ipython",
        "version": 3
      },
      "file_extension": ".py",
      "mimetype": "text/x-python",
      "name": "python",
      "nbconvert_exporter": "python",
      "pygments_lexer": "ipython3",
      "version": "3.8.10"
    },
    "orig_nbformat": 4,
    "vscode": {
      "interpreter": {
        "hash": "916dbcbb3f70747c44a77c7bcd40155683ae19c65e1c03b4aa3499c5328201f1"
      }
    },
    "colab": {
      "name": "4-acrima-models-evaluation.ipynb",
      "provenance": []
    }
  },
  "nbformat": 4,
  "nbformat_minor": 0
}